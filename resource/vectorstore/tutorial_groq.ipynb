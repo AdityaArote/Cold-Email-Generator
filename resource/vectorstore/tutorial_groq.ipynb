{
 "cells": [
  {
   "cell_type": "code",
   "execution_count": 1,
   "id": "c1240ccd-a459-4984-bca8-367b3c6516b9",
   "metadata": {},
   "outputs": [
    {
     "name": "stdout",
     "output_type": "stream",
     "text": [
      "content='The first person to land on the moon was Neil Armstrong. He stepped out of the lunar module Eagle and onto the moon\\'s surface on July 20, 1969, as part of the Apollo 11 mission. Armstrong famously declared, \"That\\'s one small step for man, one giant leap for mankind,\" as he became the first human to set foot on the moon.' additional_kwargs={} response_metadata={'token_usage': {'completion_tokens': 77, 'prompt_tokens': 45, 'total_tokens': 122, 'completion_time': 0.381694846, 'prompt_time': 0.01157883, 'queue_time': 0.018486479, 'total_time': 0.393273676}, 'model_name': 'llama-3.1-70b-versatile', 'system_fingerprint': 'fp_3884478861', 'finish_reason': 'stop', 'logprobs': None} id='run-23e15b7d-7eb6-4a7e-a3a3-ae19dee71502-0' usage_metadata={'input_tokens': 45, 'output_tokens': 77, 'total_tokens': 122}\n"
     ]
    }
   ],
   "source": [
    "from langchain_groq import ChatGroq\n",
    "\n",
    "llm = ChatGroq(\n",
    "    temperature=0,\n",
    "    groq_api_key='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',\n",
    "     model_name=\"llama-3.1-70b-versatile\"\n",
    "    \n",
    "    \n",
    ")\n",
    "result =llm.invoke(\"The first person to land on moon was... \")\n",
    "print(result.content)\n"
   ]
  }
 ],
 "metadata": {
  "kernelspec": {
   "display_name": "Python 3 (ipykernel)",
   "language": "python",
   "name": "python3"
  },
  "language_info": {
   "codemirror_mode": {
    "name": "ipython",
    "version": 3
   },
   "file_extension": ".py",
   "mimetype": "text/x-python",
   "name": "python",
   "nbconvert_exporter": "python",
   "pygments_lexer": "ipython3",
   "version": "3.10.11"
  }
 },
 "nbformat": 4,
 "nbformat_minor": 5
}
