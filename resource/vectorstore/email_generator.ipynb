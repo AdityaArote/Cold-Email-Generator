{
 "cells": [
  {
   "cell_type": "code",
   "execution_count": 2,
   "id": "6b8d77d2-5dbc-4384-a227-60416f55c895",
   "metadata": {},
   "outputs": [],
   "source": [
    "from langchain_groq import ChatGroq"
   ]
  },
  {
   "cell_type": "code",
   "execution_count": 3,
   "id": "c4b53560-6ee1-4d93-8aee-28783a706c48",
   "metadata": {},
   "outputs": [
    {
     "name": "stdout",
     "output_type": "stream",
     "text": [
      "The first person to land on the moon was Neil Armstrong. He stepped out of the lunar module Eagle and onto the moon's surface on July 20, 1969, as part of the Apollo 11 mission. Armstrong famously declared, \"That's one small step for man, one giant leap for mankind,\" as he became the first human to set foot on the moon.\n"
     ]
    }
   ],
   "source": [
    "from langchain_groq import ChatGroq\n",
    "\n",
    "llm = ChatGroq(\n",
    "    temperature=0,\n",
    "    groq_api_key='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',\n",
    "     model_name=\"llama-3.1-70b-versatile\"\n",
    "    \n",
    "    \n",
    ")\n",
    "result =llm.invoke(\"The first person to land on moon was... \")\n",
    "print(result.content)\n"
   ]
  },
  {
   "cell_type": "code",
   "execution_count": 7,
   "id": "59971ab2-14fe-4411-bc4d-c533ba92c875",
   "metadata": {},
   "outputs": [
    {
     "name": "stdout",
     "output_type": "stream",
     "text": [
      "Apply for Software Engineer II, ITC\n",
      "\n",
      "Search JobsSkip navigationSearch JobsNIKE, INC. JOBSContract JobsJoin The Talent CommunityLife @ NikeOverviewBenefitsBrandsOverviewJordanConverseTeamsOverviewAdministrative SupportAdvanced InnovationAir Manufacturing InnovationAviationCommunicationsCustomer ServiceDesignDigitalFacilitiesFinance & AccountingGovernment & Public AffairsHuman ResourcesInsights & AnalyticsLegalManufacturing & EngineeringMarketingMerchandisingPlanningPrivacyProcurementProduct Creation, Development & ManagementRetail CorporateRetail StoresSalesSocial & Community ImpactSports MarketingStrategic PlanningSupply Chain, Distribution & LogisticsSustainabilityTechnologyLocationsOverviewNike WHQNike New York HQEHQ: Hilversum, The NetherlandsELC: Laakdal, BelgiumGreater China HQDiversity, Equity & InclusionOverviewMilitary InclusionDisability InclusionIndigenous InclusionInternshipsTechnologySoftware Engineer II, ITCKarnataka, IndiaBecome a Part of the NIKE, Inc. TeamNIKE, Inc. does more than outfit the world’s best athletes. It is a place to explore potential, obliterate boundaries and push out the edges of what can be. The company looks for people who can grow, think, dream and create. Its culture thrives by embracing diversity and rewarding imagination. The brand seeks achievers, leaders and visionaries. At NIKE, Inc. it’s about each person bringing skills and passion to a challenging and constantly evolving game.NIKE is a technology company. From our flagship website and five-star mobile apps to developing products, managing big data and providing leading edge engineering and systems support, our teams at NIKE Global Technology exist to revolutionize the future at the confluence of tech and sport. We invest and develop advances in technology and employ the most creative people in the world, and then give them the support to constantly innovate, iterate and serve consumers more directly and personally.  Our teams are innovative, diverse, multidisciplinary and collaborative, taking technology into the future and bringing the world with it.WHO YOU’LL WORK WITHThis role is part of the Nike’s Customer Data Platform within Marketing Technology. This team works on a variety of data points across Geos from Nike’ experiences, Data Science Models, Transaction Data, Permissions etc. which are stitched together to create a rich customer overview that provides the marketers a buffet of options to choose for a marketing activity or build a insight. This team is powered by Data Engineering, Customer Data platform software service and many home-grown tools based on cutting edge technologies.WHO WE ARE LOOKING FORWe are looking for a Software engineer, to be a part of Nike’s Marketing Technology organization. This position will play a critical role, in developing Nike’s Customer Data platform, which supports and promotes our products and provides a unique user experience to all our customers in166 countries globally. We are looking for someone to have a strong Data engineering and analytical background with a focus of delivering an omnichannel consumer experience through data driven marketing.We are looking for a candidate with a strong 2-5 years of experience on working on large datasets and should demonstrate below skills:Academic background in computer science (BE or B Tech) or equivalent work2-5 years of technology related experienceHands-on experience in data engineering developing batch and streaming pipelineHands on experience on Python or Java, SQL, Data Engineering, experience with the following tools or similar: Data Bricks Airflow, EMR, Hive, SparkDemonstrated strength in data modelling, ETL development, and data streamingExperience in microservices architecture, domain driven design, and RESTful API’sKnowledge of data management fundamentals and data storage principlesExperience in customizing product solutionsFamiliarity with the challenge of moving large files across a geographically disperse network. Knowledge of different accelerated transfer methods and technologiesExperience with implementing CI/CD and leading teams with DevOps responsibilities of deploying and supporting the software in productionExperience using cloud services to build an integrated application in production (AWS - EC2, ECS, API gateway, Lambda).Experience with implementing CI/CD and DevOps responsibilities of deploying and supporting the software in productionMarketing technology experience is a plusExperience integrating with various Adobe toolset in the marketing space would be a plus– in particular Adobe Experience Platform (AEP), Journey Orchestration (JO), Customer Journey Analytics(CJA)WHAT YOU’LL WORK ONThis role will be responsible for driving, owning, and shipping all aspects of large, multi-functional efforts feature areas and will partner with engineering teams throughout feature development from architecture, design, implementation, and validation.Design, and build large datasets, and data pipelines to support building out our new Customer Data Platform (CDP) which will enable advanced segmentation in Customer data platform, that creates unique customer experience targeting, automation, and analytics.Build complex data pipelines for real time data, click stream analysis and work to achieve high-quality data ingestion goals.The technology stack that you will be working on: Data Bricks, Python, AirFlow, AWS, EMR, Databricks.Innovating, architecting, designing, and implementing highly available, scalable systems, focusing on highly visible marketing initiatives Contributing ideas for new features and identifying technical areas for improvement proactively Collaborate with upstream and downstream technical teams to develop integrations to provide a seamless flow of our marketing assets from planning to delivery.  NIKE, Inc. is a growth company that looks for team members to grow with it. Nike offers a generous total rewards package, casual work environment, a diverse and inclusive culture, and an electric atmosphere for professional development. No matter the location, or the role, every Nike employee shares one galvanizing mission: To bring inspiration and innovation to every athlete* in the world.NIKE, Inc. is committed to employing a diverse workforce. Qualified applicants will receive consideration without regard to race, color, religion, sex, national origin, age, sexual orientation, gender identity, gender expression, veteran status, or disability.How We HireAt NIKE, Inc. we promise to provide a premium, inclusive, compelling and authentic candidate experience. Delivering on this promise means we allow you to be at your best — and to do that, you need to understand how the hiring process works. Transparency is key.\n",
      "\n",
      "* This overview explains our hiring process for corporate roles. Note there may be different hiring steps involved for non-corporate roles.Start nowBenefitsWhether it’s transportation or financial health, we continually invest in our employees to help them achieve greatness — inside and outside of work. All who work here should be able to realize their full potential.Employee Assistance ProgramHolidaysMedical PlanPaid Time Off (PTO)Product DiscountsLearn moreFIND A STOREBECOME A MEMBERSIGN UP FOR EMAILSEND US FEEDBACKSTUDENT DISCOUNTSGET HELPGET HELPOrder StatusDeliveryReturnsPayment OptionsContact Us On Nike.com InquiriesContact Us On All Other InquiriesABOUT NIKEABOUT NIKENewsCareersInvestorsSustainabilityIndia© 2025 Nike, Inc. All Rights ReservedGuidesNike AdaptNike Air MaxNike FlyleatherNike PegasusNike Zoom FlyNike AirNike FlyEaseNike FreeNike ReactNike ZoomXNike Air Force 1Nike FlyknitNike JoyrideNike VaporflyTerms of SaleTerms of UseNike Privacy Policy\n"
     ]
    }
   ],
   "source": [
    "from langchain_community.document_loaders import WebBaseLoader\n",
    "loader = WebBaseLoader(\"https://jobs.nike.com/job/R-40715?from=job%20search%20funnel\")\n",
    "page_data = loader.load().pop().page_content\n",
    "print(page_data)"
   ]
  },
  {
   "cell_type": "code",
   "execution_count": 12,
   "id": "4d4f244e-6452-49fd-a656-f250354668ae",
   "metadata": {},
   "outputs": [
    {
     "name": "stdout",
     "output_type": "stream",
     "text": [
      "content='```json\\n{\\n  \"role\": \"Software Engineer II, ITC\",\\n  \"experience\": \"2-5 years\",\\n  \"skills\": [\\n    \"Data engineering\",\\n    \"Python\",\\n    \"Java\",\\n    \"SQL\",\\n    \"Data Bricks\",\\n    \"Airflow\",\\n    \"EMR\",\\n    \"Hive\",\\n    \"Spark\",\\n    \"Microservices architecture\",\\n    \"Domain driven design\",\\n    \"RESTful API\\'s\",\\n    \"Data management fundamentals\",\\n    \"Data storage principles\",\\n    \"CI/CD\",\\n    \"DevOps\",\\n    \"Cloud services (AWS - EC2, ECS, API gateway, Lambda)\",\\n    \"Marketing technology\",\\n    \"Adobe toolset (AEP, JO, CJA)\"\\n  ],\\n  \"description\": \"We are looking for a Software engineer, to be a part of Nike’s Marketing Technology organization. This position will play a critical role, in developing Nike’s Customer Data platform, which supports and promotes our products and provides a unique user experience to all our customers in 166 countries globally.\"\\n}\\n```' additional_kwargs={} response_metadata={'token_usage': {'completion_tokens': 218, 'prompt_tokens': 1579, 'total_tokens': 1797, 'completion_time': 0.792727273, 'prompt_time': 0.158855788, 'queue_time': 0.029935571999999994, 'total_time': 0.951583061}, 'model_name': 'llama-3.1-70b-versatile', 'system_fingerprint': 'fp_4196e754db', 'finish_reason': 'stop', 'logprobs': None} id='run-8ce5748f-5899-45f6-b815-30843d69f230-0' usage_metadata={'input_tokens': 1579, 'output_tokens': 218, 'total_tokens': 1797}\n"
     ]
    }
   ],
   "source": [
    "from langchain_core.prompts import PromptTemplate\n",
    "prompt_extract = PromptTemplate.from_template(\n",
    "    \"\"\"\n",
    "    ### SCRAPED TEXT FROM WEBSITE:\n",
    "    {page_data}\n",
    "    ### INSTRUCTION:\n",
    "    The scrapedtext is from the career's page of a website.\n",
    "    Your job is extract the job postings and return them in JSON format containing \n",
    "    following keys: 'role','experience','skills'and 'description'.\n",
    "    Only return the valid JSON.\n",
    "    ### VALID JSON (NO PREAMBLE):\n",
    "    \"\"\"\n",
    ")\n",
    "chain_extract =  prompt_extract | llm\n",
    "res = chain_extract.invoke(input={'page_data':page_data})\n",
    "print(res)"
   ]
  },
  {
   "cell_type": "code",
   "execution_count": 16,
   "id": "284887c2-2f71-4649-9e5e-47e73077dd66",
   "metadata": {},
   "outputs": [
    {
     "data": {
      "text/plain": [
       "{'role': 'Software Engineer II, ITC',\n",
       " 'experience': '2-5 years',\n",
       " 'skills': ['Data engineering',\n",
       "  'Python',\n",
       "  'Java',\n",
       "  'SQL',\n",
       "  'Data Bricks',\n",
       "  'Airflow',\n",
       "  'EMR',\n",
       "  'Hive',\n",
       "  'Spark',\n",
       "  'Microservices architecture',\n",
       "  'Domain driven design',\n",
       "  \"RESTful API's\",\n",
       "  'Data management fundamentals',\n",
       "  'Data storage principles',\n",
       "  'CI/CD',\n",
       "  'DevOps',\n",
       "  'Cloud services (AWS - EC2, ECS, API gateway, Lambda)',\n",
       "  'Marketing technology',\n",
       "  'Adobe toolset (AEP, JO, CJA)'],\n",
       " 'description': 'We are looking for a Software engineer, to be a part of Nike’s Marketing Technology organization. This position will play a critical role, in developing Nike’s Customer Data platform, which supports and promotes our products and provides a unique user experience to all our customers in 166 countries globally.'}"
      ]
     },
     "execution_count": 16,
     "metadata": {},
     "output_type": "execute_result"
    }
   ],
   "source": [
    "from langchain_core.output_parsers import JsonOutputParser\n",
    "\n",
    "json_parser=JsonOutputParser()\n",
    "json_res = json_parser.parse(res.content) \n",
    "json_res"
   ]
  },
  {
   "cell_type": "code",
   "execution_count": 17,
   "id": "73719d2b-89d3-4702-8869-0a875fea1823",
   "metadata": {},
   "outputs": [
    {
     "data": {
      "text/plain": [
       "dict"
      ]
     },
     "execution_count": 17,
     "metadata": {},
     "output_type": "execute_result"
    }
   ],
   "source": [
    "type(json_res)"
   ]
  },
  {
   "cell_type": "code",
   "execution_count": 19,
   "id": "adb508fe-44cf-4a6e-b1a1-4df1ca48cbda",
   "metadata": {},
   "outputs": [
    {
     "data": {
      "text/html": [
       "<div>\n",
       "<style scoped>\n",
       "    .dataframe tbody tr th:only-of-type {\n",
       "        vertical-align: middle;\n",
       "    }\n",
       "\n",
       "    .dataframe tbody tr th {\n",
       "        vertical-align: top;\n",
       "    }\n",
       "\n",
       "    .dataframe thead th {\n",
       "        text-align: right;\n",
       "    }\n",
       "</style>\n",
       "<table border=\"1\" class=\"dataframe\">\n",
       "  <thead>\n",
       "    <tr style=\"text-align: right;\">\n",
       "      <th></th>\n",
       "      <th>Techstack</th>\n",
       "      <th>Links</th>\n",
       "      <th>Unnamed: 2</th>\n",
       "      <th>Unnamed: 3</th>\n",
       "      <th>Unnamed: 4</th>\n",
       "    </tr>\n",
       "  </thead>\n",
       "  <tbody>\n",
       "    <tr>\n",
       "      <th>0</th>\n",
       "      <td>React, Node.js, MongoDB</td>\n",
       "      <td>https://example.com/react-portfolio</td>\n",
       "      <td>NaN</td>\n",
       "      <td>NaN</td>\n",
       "      <td>NaN</td>\n",
       "    </tr>\n",
       "    <tr>\n",
       "      <th>1</th>\n",
       "      <td>Angular, .NET, SQL Server</td>\n",
       "      <td>https://example.com/angular-portfolio</td>\n",
       "      <td>NaN</td>\n",
       "      <td>NaN</td>\n",
       "      <td>NaN</td>\n",
       "    </tr>\n",
       "    <tr>\n",
       "      <th>2</th>\n",
       "      <td>Vue.js, Ruby on Rails, PostgreSQL</td>\n",
       "      <td>https://example.com/vue-portfolio</td>\n",
       "      <td>NaN</td>\n",
       "      <td>NaN</td>\n",
       "      <td>NaN</td>\n",
       "    </tr>\n",
       "    <tr>\n",
       "      <th>3</th>\n",
       "      <td>Python, Django, MySQL</td>\n",
       "      <td>https://example.com/python-portfolio</td>\n",
       "      <td>NaN</td>\n",
       "      <td>NaN</td>\n",
       "      <td>NaN</td>\n",
       "    </tr>\n",
       "    <tr>\n",
       "      <th>4</th>\n",
       "      <td>Java, Spring Boot, Oracle</td>\n",
       "      <td>https://example.com/java-portfolio</td>\n",
       "      <td>NaN</td>\n",
       "      <td>NaN</td>\n",
       "      <td>NaN</td>\n",
       "    </tr>\n",
       "    <tr>\n",
       "      <th>5</th>\n",
       "      <td>Flutter, Firebase, GraphQL</td>\n",
       "      <td>https://example.com/flutter-portfolio</td>\n",
       "      <td>NaN</td>\n",
       "      <td>NaN</td>\n",
       "      <td>NaN</td>\n",
       "    </tr>\n",
       "    <tr>\n",
       "      <th>6</th>\n",
       "      <td>WordPress, PHP, MySQL</td>\n",
       "      <td>https://example.com/wordpress-portfolio</td>\n",
       "      <td>NaN</td>\n",
       "      <td>NaN</td>\n",
       "      <td>NaN</td>\n",
       "    </tr>\n",
       "    <tr>\n",
       "      <th>7</th>\n",
       "      <td>Magento, PHP, MySQL</td>\n",
       "      <td>https://example.com/magento-portfolio</td>\n",
       "      <td>NaN</td>\n",
       "      <td>NaN</td>\n",
       "      <td>NaN</td>\n",
       "    </tr>\n",
       "    <tr>\n",
       "      <th>8</th>\n",
       "      <td>React Native, Node.js, MongoDB</td>\n",
       "      <td>https://example.com/react-native-portfolio</td>\n",
       "      <td>NaN</td>\n",
       "      <td>NaN</td>\n",
       "      <td>NaN</td>\n",
       "    </tr>\n",
       "    <tr>\n",
       "      <th>9</th>\n",
       "      <td>iOS, Swift, Core Data</td>\n",
       "      <td>https://example.com/ios-portfolio</td>\n",
       "      <td>NaN</td>\n",
       "      <td>NaN</td>\n",
       "      <td>NaN</td>\n",
       "    </tr>\n",
       "    <tr>\n",
       "      <th>10</th>\n",
       "      <td>Android, Java, Room Persistence</td>\n",
       "      <td>https://example.com/android-portfolio</td>\n",
       "      <td>NaN</td>\n",
       "      <td>NaN</td>\n",
       "      <td>NaN</td>\n",
       "    </tr>\n",
       "    <tr>\n",
       "      <th>11</th>\n",
       "      <td>Kotlin, Android, Firebase</td>\n",
       "      <td>https://example.com/kotlin-android-portfolio</td>\n",
       "      <td>NaN</td>\n",
       "      <td>NaN</td>\n",
       "      <td>NaN</td>\n",
       "    </tr>\n",
       "    <tr>\n",
       "      <th>12</th>\n",
       "      <td>Android TV, Kotlin, Android NDK</td>\n",
       "      <td>https://example.com/android-tv-portfolio</td>\n",
       "      <td>NaN</td>\n",
       "      <td>NaN</td>\n",
       "      <td>NaN</td>\n",
       "    </tr>\n",
       "    <tr>\n",
       "      <th>13</th>\n",
       "      <td>iOS, Swift, ARKit</td>\n",
       "      <td>https://example.com/ios-ar-portfolio</td>\n",
       "      <td>NaN</td>\n",
       "      <td>NaN</td>\n",
       "      <td>NaN</td>\n",
       "    </tr>\n",
       "    <tr>\n",
       "      <th>14</th>\n",
       "      <td>Cross-platform, Xamarin, Azure</td>\n",
       "      <td>https://example.com/xamarin-portfolio</td>\n",
       "      <td>NaN</td>\n",
       "      <td>NaN</td>\n",
       "      <td>NaN</td>\n",
       "    </tr>\n",
       "    <tr>\n",
       "      <th>15</th>\n",
       "      <td>Backend, Kotlin, Spring Boot</td>\n",
       "      <td>https://example.com/kotlin-backend-portfolio</td>\n",
       "      <td>NaN</td>\n",
       "      <td>NaN</td>\n",
       "      <td>NaN</td>\n",
       "    </tr>\n",
       "    <tr>\n",
       "      <th>16</th>\n",
       "      <td>Frontend, TypeScript, Angular</td>\n",
       "      <td>https://example.com/typescript-frontend-portfolio</td>\n",
       "      <td>NaN</td>\n",
       "      <td>NaN</td>\n",
       "      <td>NaN</td>\n",
       "    </tr>\n",
       "    <tr>\n",
       "      <th>17</th>\n",
       "      <td>Full-stack, JavaScript, Express.js</td>\n",
       "      <td>https://example.com/full-stack-js-portfolio</td>\n",
       "      <td>NaN</td>\n",
       "      <td>NaN</td>\n",
       "      <td>NaN</td>\n",
       "    </tr>\n",
       "    <tr>\n",
       "      <th>18</th>\n",
       "      <td>Machine Learning, Python, TensorFlow</td>\n",
       "      <td>https://example.com/ml-python-portfolio</td>\n",
       "      <td>NaN</td>\n",
       "      <td>NaN</td>\n",
       "      <td>NaN</td>\n",
       "    </tr>\n",
       "    <tr>\n",
       "      <th>19</th>\n",
       "      <td>DevOps, Jenkins, Docker</td>\n",
       "      <td>https://example.com/devops-portfolio</td>\n",
       "      <td>NaN</td>\n",
       "      <td>NaN</td>\n",
       "      <td>NaN</td>\n",
       "    </tr>\n",
       "  </tbody>\n",
       "</table>\n",
       "</div>"
      ],
      "text/plain": [
       "                               Techstack  \\\n",
       "0                React, Node.js, MongoDB   \n",
       "1              Angular, .NET, SQL Server   \n",
       "2      Vue.js, Ruby on Rails, PostgreSQL   \n",
       "3                  Python, Django, MySQL   \n",
       "4              Java, Spring Boot, Oracle   \n",
       "5             Flutter, Firebase, GraphQL   \n",
       "6                  WordPress, PHP, MySQL   \n",
       "7                    Magento, PHP, MySQL   \n",
       "8         React Native, Node.js, MongoDB   \n",
       "9                  iOS, Swift, Core Data   \n",
       "10       Android, Java, Room Persistence   \n",
       "11             Kotlin, Android, Firebase   \n",
       "12       Android TV, Kotlin, Android NDK   \n",
       "13                     iOS, Swift, ARKit   \n",
       "14        Cross-platform, Xamarin, Azure   \n",
       "15          Backend, Kotlin, Spring Boot   \n",
       "16         Frontend, TypeScript, Angular   \n",
       "17    Full-stack, JavaScript, Express.js   \n",
       "18  Machine Learning, Python, TensorFlow   \n",
       "19               DevOps, Jenkins, Docker   \n",
       "\n",
       "                                                Links  Unnamed: 2  Unnamed: 3  \\\n",
       "0                 https://example.com/react-portfolio         NaN         NaN   \n",
       "1               https://example.com/angular-portfolio         NaN         NaN   \n",
       "2                   https://example.com/vue-portfolio         NaN         NaN   \n",
       "3                https://example.com/python-portfolio         NaN         NaN   \n",
       "4                  https://example.com/java-portfolio         NaN         NaN   \n",
       "5               https://example.com/flutter-portfolio         NaN         NaN   \n",
       "6             https://example.com/wordpress-portfolio         NaN         NaN   \n",
       "7               https://example.com/magento-portfolio         NaN         NaN   \n",
       "8          https://example.com/react-native-portfolio         NaN         NaN   \n",
       "9                   https://example.com/ios-portfolio         NaN         NaN   \n",
       "10              https://example.com/android-portfolio         NaN         NaN   \n",
       "11       https://example.com/kotlin-android-portfolio         NaN         NaN   \n",
       "12           https://example.com/android-tv-portfolio         NaN         NaN   \n",
       "13               https://example.com/ios-ar-portfolio         NaN         NaN   \n",
       "14              https://example.com/xamarin-portfolio         NaN         NaN   \n",
       "15       https://example.com/kotlin-backend-portfolio         NaN         NaN   \n",
       "16  https://example.com/typescript-frontend-portfolio         NaN         NaN   \n",
       "17        https://example.com/full-stack-js-portfolio         NaN         NaN   \n",
       "18            https://example.com/ml-python-portfolio         NaN         NaN   \n",
       "19               https://example.com/devops-portfolio         NaN         NaN   \n",
       "\n",
       "    Unnamed: 4  \n",
       "0          NaN  \n",
       "1          NaN  \n",
       "2          NaN  \n",
       "3          NaN  \n",
       "4          NaN  \n",
       "5          NaN  \n",
       "6          NaN  \n",
       "7          NaN  \n",
       "8          NaN  \n",
       "9          NaN  \n",
       "10         NaN  \n",
       "11         NaN  \n",
       "12         NaN  \n",
       "13         NaN  \n",
       "14         NaN  \n",
       "15         NaN  \n",
       "16         NaN  \n",
       "17         NaN  \n",
       "18         NaN  \n",
       "19         NaN  "
      ]
     },
     "execution_count": 19,
     "metadata": {},
     "output_type": "execute_result"
    }
   ],
   "source": [
    "import pandas as pd\n",
    "df = pd.read_csv(\"my_portfolio.csv\")\n",
    "df "
   ]
  },
  {
   "cell_type": "code",
   "execution_count": 35,
   "id": "39f9f841-42dc-44d6-9f2d-bda9b5f1c46a",
   "metadata": {},
   "outputs": [],
   "source": [
    "import chromadb\n",
    "import uuid\n",
    "\n",
    "client = chromadb.PersistentClient('vectorstore')\n",
    "collection = client.get_or_create_collection(name=\"portfolio\")\n",
    "\n",
    "if not collection.count():\n",
    "    for _, row in df.iterrows():\n",
    "        collection.add(\n",
    "            documents=row[\"Techstack\"],\n",
    "            metadatas={\"links\": row[\"Links\"]},\n",
    "            ids=[str(uuid.uuid4())])\n",
    "    "
   ]
  },
  {
   "cell_type": "code",
   "execution_count": 39,
   "id": "f28dcd25-8e18-41e0-a4db-7a19fac5dfc7",
   "metadata": {},
   "outputs": [
    {
     "data": {
      "text/plain": [
       "[[{'links': 'https://example.com/ml-python-portfolio'},\n",
       "  {'links': 'https://example.com/python-portfolio'}],\n",
       " [{'links': 'https://example.com/react-portfolio'},\n",
       "  {'links': 'https://example.com/react-native-portfolio'}]]"
      ]
     },
     "execution_count": 39,
     "metadata": {},
     "output_type": "execute_result"
    }
   ],
   "source": [
    "links = collection.query(query_texts=[\"Experiments in python\",\"Expertise in react\"], n_results=2).get('metadatas') \n",
    "links"
   ]
  },
  {
   "cell_type": "code",
   "execution_count": 41,
   "id": "14a11578-b138-4f83-a3c5-19476f4672ca",
   "metadata": {},
   "outputs": [
    {
     "data": {
      "text/plain": [
       "['Data engineering',\n",
       " 'Python',\n",
       " 'Java',\n",
       " 'SQL',\n",
       " 'Data Bricks',\n",
       " 'Airflow',\n",
       " 'EMR',\n",
       " 'Hive',\n",
       " 'Spark',\n",
       " 'Microservices architecture',\n",
       " 'Domain driven design',\n",
       " \"RESTful API's\",\n",
       " 'Data management fundamentals',\n",
       " 'Data storage principles',\n",
       " 'CI/CD',\n",
       " 'DevOps',\n",
       " 'Cloud services (AWS - EC2, ECS, API gateway, Lambda)',\n",
       " 'Marketing technology',\n",
       " 'Adobe toolset (AEP, JO, CJA)']"
      ]
     },
     "execution_count": 41,
     "metadata": {},
     "output_type": "execute_result"
    }
   ],
   "source": [
    "job = json_res\n",
    "job['skills']"
   ]
  },
  {
   "cell_type": "code",
   "execution_count": null,
   "id": "7aa3c008-e256-4f67-9d0c-5bcfaec9c5f5",
   "metadata": {},
   "outputs": [],
   "source": [
    "from langchain_core.prompts import PromptTemplate\n",
    "prompt_extract = PromptTemplate.from_template(\n",
    "    \"\"\"\n",
    "    ### Job description \n",
    "    (job_description)\n",
    "    \n",
    "    ### INSTRUCTION:\n",
    "    you are aditya, a business development executive at atliq is ai and software the seamless ingretion of business processes throug automated\n",
    "\n",
    "Over our experience, we have empowered numerous enterprises with tailored solution, process optimization, cost reduction, and heightened overall efficiency.\n",
    "Your job is to write a cold email to the client regarding the job mentioned above describing the capability of  in fulfilling their needs.\n",
    "Also add the most relevant ones from the following links to showcase Atliq's portfolio:{link_list} Remember you are aditya, BDE at AtliQ.\n",
    "Do not provide a preamble.\n",
    "### EMAIL(NO PREAMBLE):\n",
    "    \"\"\"\n",
    ")\n",
    "chain_extract =  prompt_extract | llm\n",
    "res = chain_extract.invoke(input={'page_data':page_data})\n",
    "print(res)"
   ]
  }
 ],
 "metadata": {
  "kernelspec": {
   "display_name": "Python 3 (ipykernel)",
   "language": "python",
   "name": "python3"
  },
  "language_info": {
   "codemirror_mode": {
    "name": "ipython",
    "version": 3
   },
   "file_extension": ".py",
   "mimetype": "text/x-python",
   "name": "python",
   "nbconvert_exporter": "python",
   "pygments_lexer": "ipython3",
   "version": "3.10.11"
  }
 },
 "nbformat": 4,
 "nbformat_minor": 5
}
